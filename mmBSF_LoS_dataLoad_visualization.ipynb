{
 "cells": [
  {
   "cell_type": "markdown",
   "metadata": {
    "slideshow": {
     "slide_type": "slide"
    }
   },
   "source": [
    "# mmBSF: An Open Dataset for mmWave Indoor Localization\n",
    "\n",
    "- mmBSF: mmWave Beam SNR Fingerprinting\n",
    "\n",
    "by [Pu (Perry) Wang](https://www.merl.com/people/pwang), [Toshiaki Koike-Akino](https://www.merl.com/people/koike), Milutin Pajovic, and [Philip V. Orlik](https://www.merl.com/people/porlik)\n",
    "\n",
    "Mitsubishi Electric Research Laboratories (MERL), 201 Broadway, Cambridge, MA 02139, USA\n",
    "\n",
    "- **link to dataset**: https://www.merl.com/demos/mmBSF\n",
    "\n",
    "\n",
    "Joint work with the intern Dr. Haijian Sun from Utah State University (now an Assistant Professor in University of Wisconsin-Whitewater) who contributed to the early stage of the project and single-AP experiments.\n"
   ]
  },
  {
   "cell_type": "markdown",
   "metadata": {
    "slideshow": {
     "slide_type": "slide"
    }
   },
   "source": [
    "### Introduction\n",
    "\n",
    "Most fingerprinting-based indoor localization methods use \n",
    "\n",
    "- **coarse-grained** received signal strength indicator (RSSI) measurements from the MAC layer\n",
    "- **fine-grained** channel state information (CSI) from the physical layer \n",
    "\n",
    "In this study, we consider a new type of channel measurement in the mmWave band for the fingerprinting-based indoor localization:\n",
    "\n",
    "- **mid-grained** channel measurement: beam signal-to-noise ratios (SNRs) \n",
    "\n",
    "which are more informative (e.g., in the spatial domain) than the RSSI measurement and easier to access\n",
    "than the lower-level CSI measurement as the beam SNRs are required to be reported by users for mmWave beam\n",
    "training (therefore, no additional overhead). Beam SNRs are defined in the 5G and IEEE 802.11ad/ay standards. \n",
    "\n",
    "For more details about beam SNR, refer to our recent papers:\n",
    "\n",
    "- [GLOBECOME 2019 paper](https://www.merl.com/publications/docs/TR2019-138.pdf)\n",
    "- [GLOBECOME 2019 paper](https://www.merl.com/publications/docs/TR2019-141.pdf)\n",
    "- [IEEE Access paper](https://www.merl.com/publications/docs/TR2020-054.pdf)\n"
   ]
  },
  {
   "cell_type": "markdown",
   "metadata": {
    "slideshow": {
     "slide_type": "slide"
    }
   },
   "source": [
    "### mmWave Beam SNR\n",
    "\n",
    "- To search for desired directions, a series of pre-defined beampatterns or sectors are used by APs to send beacon messages to potential clients which are in a listening mode with a quasi-omnidirectional beampattern. \n",
    "\n",
    "- Clients then send a series of beampatterns while the APs are in a listening mode. After beam training, the link can be established by choosing the pair of beampatterns between the AP and clients.  \n",
    "\n",
    "- Such beam training is periodically repeated and the beam sectors are updated to adapt to the environmental changes.\n",
    "\n",
    "When directional beampatterns are used, beam SNRs are collected by 802.11ad devices as a measure of beam quality. For a given pair of transmitting and receiving beampatterns, corresponding beam SNR can be defined as\n",
    "$$\n",
    "h_m = \\mathsf{BeamSNR}_m = \\frac{1}{\\sigma^2} \\sum\\limits_{i=1}^I \\gamma_m(\\theta_i) \\zeta_m(\\psi_i) P_i,\n",
    "$$\n",
    "where $m$ is the index of beampattern, $I$ is the total number of paths, $\\theta_i$ and $\\psi_i$ are the transmitting and receiving azimuth angles for the $i$th path, respectively,  $P_i$ is the signal power at the $i$th path, $\\gamma_m(\\theta_i)$ and $\\zeta_m(\\psi_i)$  are the transmitting and receiving beampattern gains at the $i$th path for the $m$th beampattern, respectively, and $\\sigma^2$ is the noise variance. \n",
    "\n",
    "\n",
    "\n",
    "<td> <img src=\"figs/beamSNR.png\" alt=\"Drawing\" style=\"width: 500px;\"/> </td>\n",
    "\n",
    "\n",
    "An example of 3 paths between the transmitting side that probes the spatial domain using the $(m=24)$th directional beampattern and the receiving side which is in a listening mode. \n",
    "\n"
   ]
  },
  {
   "cell_type": "markdown",
   "metadata": {
    "slideshow": {
     "slide_type": "slide"
    }
   },
   "source": [
    "### MERL In-House Testbed\n",
    "\n",
    "\n",
    "The testbed consists of four 802.11ad-compliant WiFi routers, three serving as APs and one as the client, in a configuration shown below. These devices are connected via wire cables to a workstation to allow configurations of the role of each device and to access the beam SNR measurements. Particularly, these commerical WiFi routers come with a phased antenna array of 32 antenna elements and fully implement the IEEE 802.11ad\n",
    "standard. During the beam training phase, a number of predefined antenna patterns are swept by changing the weights in the antenna elements. When the router is in the reception mode, a quasi omni-directional antenna pattern is used.\n",
    "\n",
    "<td> <img src=\"figs/testbed.png\" alt=\"Drawing\" style=\"width: 300px;\"/> </td>\n"
   ]
  },
  {
   "cell_type": "markdown",
   "metadata": {
    "slideshow": {
     "slide_type": "subslide"
    }
   },
   "source": [
    "The testbed was deployed in an office environment during regular office hours. There are 6 offices on both sides and 8 cubicles in the middle. All 6 offices and 4 cubicles on the right were occupied by staff members. Furniture including chairs, tables, and desktops were present in the cubicles.\n",
    "\n",
    "<td> <img src=\"figs/coord.pdf\" alt=\"Drawing\" style=\"width: 450px;\"/> </td>\n",
    "    \n",
    "Configuration: \n",
    "\n",
    "- 3 APs were fixed in the aisle with fixed orientations. AP1, AP2 and AP3 point to $90^{\\circ}, 180^{\\circ} \\text{ and } 0^{\\circ},$ respectively. \n",
    "\n",
    "- 7 on-grid locations (denoted as 1, 2, ..., 7 in the above figure) were fingerprinted on Day 1 for training. 4 orientations were also fingerprinted for each location. \n",
    "\n",
    "- The same 7 on-grid locations and orientations were fingerprinted on Day 2 for testing. \n",
    "\n",
    "- The 4 off-grid locations (denoted as A, B, C, and D) were fingerprinted on Day 3 for testing. \n",
    "\n",
    "\n",
    "\n"
   ]
  },
  {
   "cell_type": "markdown",
   "metadata": {
    "slideshow": {
     "slide_type": "slide"
    }
   },
   "source": [
    "### Data Format\n",
    "\n",
    "We collected **ONE** training data for fingerprinting both location and orientations and **TWO** test datasets, all on different dates during regular office hours. \n",
    "\n",
    "- 1 **training dataset** was collected over 7 locations with 4 orientations for each location\n",
    "  - 12007 entries\n",
    "  - For each entries, it has\n",
    "    - A location Label (1 to 7)\n",
    "    - A global location-and-orientation label (1 to 28)\n",
    "    - An orientation degree ($0^{\\circ}, 90^{\\circ}, 180^{\\circ}, 270^{\\circ}$)\n",
    "    - A two-dimensional coordinate (in centimeters)\n",
    "    - 108 beam SNR values (36 beam SNR values for one AP)\n",
    " "
   ]
  },
  {
   "cell_type": "markdown",
   "metadata": {
    "slideshow": {
     "slide_type": "subslide"
    }
   },
   "source": [
    "- 2 **test dataset** \n",
    "  - **on-grid test dataset**: the same 7 locations and 4 orientations as in the training dataset collected a few weeks after the training dataset\n",
    "      - 7361 entries with the same format as the training dataset\n",
    "          - A location Label (1 to 7)\n",
    "          - A global location-and-orientation label (1 to 28)\n",
    "          - An orientation degree ($0^{\\circ}, 90^{\\circ}, 180^{\\circ}, 270^{\\circ}$)\n",
    "          - A two-dimensional coordinate (in centimeters)\n",
    "          - 108 beam SNR values (36 beam SNR values for one AP)\n",
    "\n",
    "  - **off-grid test dataset**: 4 different locations with 4 orientations for each location, collected 4 months after the training dataset\n",
    "    - 2044 entries\n",
    "        - A location Label (A,B,C,D)\n",
    "        - An orientation degree ($0^{\\circ}, 90^{\\circ}, 180^{\\circ}, 270^{\\circ}$)\n",
    "        - A two-dimensional coordinate (in centimeters)\n",
    "        - 108 beam SNR values (36 beam SNR values for one AP)"
   ]
  },
  {
   "cell_type": "markdown",
   "metadata": {
    "slideshow": {
     "slide_type": "slide"
    }
   },
   "source": [
    "### Import libraries"
   ]
  },
  {
   "cell_type": "code",
   "execution_count": 10,
   "metadata": {
    "slideshow": {
     "slide_type": "subslide"
    }
   },
   "outputs": [],
   "source": [
    "import torch\n",
    "import numpy as np\n",
    "import pandas as pd\n",
    "import matplotlib.pyplot as plt\n",
    "from matplotlib.colors import ListedColormap\n",
    "from matplotlib import cm"
   ]
  },
  {
   "cell_type": "markdown",
   "metadata": {
    "slideshow": {
     "slide_type": "slide"
    }
   },
   "source": [
    "# Load mmBSF dataset\n",
    "\n",
    "first load training data with the following format:\n",
    "  - 12007 entries\n",
    "  - For each entries, it has\n",
    "    - A location Label (1 to 7)\n",
    "    - A global location-and-orientation label (1 to 28)\n",
    "    - An orientation degree ($0^{\\circ}, 90^{\\circ}, 180^{\\circ}, 270^{\\circ}$)\n",
    "    - A two-dimensional coordinate (in centimeters)\n",
    "    - 108 beam SNR values (36 beam SNR values for one AP)"
   ]
  },
  {
   "cell_type": "code",
   "execution_count": 11,
   "metadata": {
    "slideshow": {
     "slide_type": "subslide"
    }
   },
   "outputs": [],
   "source": [
    "data_path = 'datasets/mmBSF_trainData.csv'\n",
    "trainBSF  = pd.read_csv(data_path)"
   ]
  },
  {
   "cell_type": "code",
   "execution_count": 12,
   "metadata": {
    "scrolled": false,
    "slideshow": {
     "slide_type": "subslide"
    }
   },
   "outputs": [
    {
     "data": {
      "text/html": [
       "<div>\n",
       "<style scoped>\n",
       "    .dataframe tbody tr th:only-of-type {\n",
       "        vertical-align: middle;\n",
       "    }\n",
       "\n",
       "    .dataframe tbody tr th {\n",
       "        vertical-align: top;\n",
       "    }\n",
       "\n",
       "    .dataframe thead th {\n",
       "        text-align: right;\n",
       "    }\n",
       "</style>\n",
       "<table border=\"1\" class=\"dataframe\">\n",
       "  <thead>\n",
       "    <tr style=\"text-align: right;\">\n",
       "      <th></th>\n",
       "      <th>Loc.</th>\n",
       "      <th>LocOrn</th>\n",
       "      <th>OrnDeg</th>\n",
       "      <th>coordX</th>\n",
       "      <th>coordY</th>\n",
       "      <th>BeamIndex_1 (AP1)</th>\n",
       "      <th>BeamIndex_2 (AP1)</th>\n",
       "      <th>BeamIndex_3 (AP1)</th>\n",
       "      <th>BeamIndex_4 (AP1)</th>\n",
       "      <th>BeamIndex_5 (AP1)</th>\n",
       "      <th>...</th>\n",
       "      <th>BeamIndex_27 (AP3)</th>\n",
       "      <th>BeamIndex_28 (AP3)</th>\n",
       "      <th>BeamIndex_29 (AP3)</th>\n",
       "      <th>BeamIndex_30 (AP3)</th>\n",
       "      <th>BeamIndex_31 (AP3)</th>\n",
       "      <th>BeamIndex_32 (AP3)</th>\n",
       "      <th>BeamIndex_33 (AP3)</th>\n",
       "      <th>BeamIndex_34 (AP3)</th>\n",
       "      <th>BeamIndex_35 (AP3)</th>\n",
       "      <th>BeamIndex_36 (AP3)</th>\n",
       "    </tr>\n",
       "  </thead>\n",
       "  <tbody>\n",
       "    <tr>\n",
       "      <th>0</th>\n",
       "      <td>1</td>\n",
       "      <td>1</td>\n",
       "      <td>0</td>\n",
       "      <td>53</td>\n",
       "      <td>133</td>\n",
       "      <td>27.44</td>\n",
       "      <td>24.88</td>\n",
       "      <td>22.94</td>\n",
       "      <td>25.31</td>\n",
       "      <td>22.31</td>\n",
       "      <td>...</td>\n",
       "      <td>21.06</td>\n",
       "      <td>19.56</td>\n",
       "      <td>21.94</td>\n",
       "      <td>21.81</td>\n",
       "      <td>18.44</td>\n",
       "      <td>21.88</td>\n",
       "      <td>20.44</td>\n",
       "      <td>24.56</td>\n",
       "      <td>18.31</td>\n",
       "      <td>23.56</td>\n",
       "    </tr>\n",
       "    <tr>\n",
       "      <th>1</th>\n",
       "      <td>1</td>\n",
       "      <td>1</td>\n",
       "      <td>0</td>\n",
       "      <td>53</td>\n",
       "      <td>133</td>\n",
       "      <td>27.00</td>\n",
       "      <td>24.75</td>\n",
       "      <td>22.75</td>\n",
       "      <td>24.94</td>\n",
       "      <td>22.13</td>\n",
       "      <td>...</td>\n",
       "      <td>20.88</td>\n",
       "      <td>19.19</td>\n",
       "      <td>21.63</td>\n",
       "      <td>21.56</td>\n",
       "      <td>18.31</td>\n",
       "      <td>21.69</td>\n",
       "      <td>20.19</td>\n",
       "      <td>24.13</td>\n",
       "      <td>18.13</td>\n",
       "      <td>23.31</td>\n",
       "    </tr>\n",
       "    <tr>\n",
       "      <th>2</th>\n",
       "      <td>1</td>\n",
       "      <td>1</td>\n",
       "      <td>0</td>\n",
       "      <td>53</td>\n",
       "      <td>133</td>\n",
       "      <td>26.69</td>\n",
       "      <td>24.50</td>\n",
       "      <td>22.19</td>\n",
       "      <td>24.56</td>\n",
       "      <td>21.94</td>\n",
       "      <td>...</td>\n",
       "      <td>23.31</td>\n",
       "      <td>21.81</td>\n",
       "      <td>24.06</td>\n",
       "      <td>23.94</td>\n",
       "      <td>20.50</td>\n",
       "      <td>23.94</td>\n",
       "      <td>22.69</td>\n",
       "      <td>26.81</td>\n",
       "      <td>20.75</td>\n",
       "      <td>25.50</td>\n",
       "    </tr>\n",
       "    <tr>\n",
       "      <th>3</th>\n",
       "      <td>1</td>\n",
       "      <td>1</td>\n",
       "      <td>0</td>\n",
       "      <td>53</td>\n",
       "      <td>133</td>\n",
       "      <td>26.94</td>\n",
       "      <td>24.31</td>\n",
       "      <td>22.00</td>\n",
       "      <td>24.56</td>\n",
       "      <td>21.75</td>\n",
       "      <td>...</td>\n",
       "      <td>21.69</td>\n",
       "      <td>19.88</td>\n",
       "      <td>22.38</td>\n",
       "      <td>22.19</td>\n",
       "      <td>18.94</td>\n",
       "      <td>22.31</td>\n",
       "      <td>21.31</td>\n",
       "      <td>24.25</td>\n",
       "      <td>18.75</td>\n",
       "      <td>24.00</td>\n",
       "    </tr>\n",
       "    <tr>\n",
       "      <th>4</th>\n",
       "      <td>1</td>\n",
       "      <td>1</td>\n",
       "      <td>0</td>\n",
       "      <td>53</td>\n",
       "      <td>133</td>\n",
       "      <td>28.38</td>\n",
       "      <td>25.69</td>\n",
       "      <td>23.75</td>\n",
       "      <td>26.13</td>\n",
       "      <td>23.38</td>\n",
       "      <td>...</td>\n",
       "      <td>21.44</td>\n",
       "      <td>19.75</td>\n",
       "      <td>22.31</td>\n",
       "      <td>22.00</td>\n",
       "      <td>18.88</td>\n",
       "      <td>22.00</td>\n",
       "      <td>20.94</td>\n",
       "      <td>24.06</td>\n",
       "      <td>18.56</td>\n",
       "      <td>23.75</td>\n",
       "    </tr>\n",
       "  </tbody>\n",
       "</table>\n",
       "<p>5 rows × 113 columns</p>\n",
       "</div>"
      ],
      "text/plain": [
       "   Loc.  LocOrn  OrnDeg  coordX  coordY  BeamIndex_1 (AP1)  BeamIndex_2 (AP1)  \\\n",
       "0     1       1       0      53     133              27.44              24.88   \n",
       "1     1       1       0      53     133              27.00              24.75   \n",
       "2     1       1       0      53     133              26.69              24.50   \n",
       "3     1       1       0      53     133              26.94              24.31   \n",
       "4     1       1       0      53     133              28.38              25.69   \n",
       "\n",
       "   BeamIndex_3 (AP1)  BeamIndex_4 (AP1)  BeamIndex_5 (AP1)  \\\n",
       "0              22.94              25.31              22.31   \n",
       "1              22.75              24.94              22.13   \n",
       "2              22.19              24.56              21.94   \n",
       "3              22.00              24.56              21.75   \n",
       "4              23.75              26.13              23.38   \n",
       "\n",
       "          ...          BeamIndex_27 (AP3)  BeamIndex_28 (AP3)  \\\n",
       "0         ...                       21.06               19.56   \n",
       "1         ...                       20.88               19.19   \n",
       "2         ...                       23.31               21.81   \n",
       "3         ...                       21.69               19.88   \n",
       "4         ...                       21.44               19.75   \n",
       "\n",
       "   BeamIndex_29 (AP3)  BeamIndex_30 (AP3)  BeamIndex_31 (AP3)  \\\n",
       "0               21.94               21.81               18.44   \n",
       "1               21.63               21.56               18.31   \n",
       "2               24.06               23.94               20.50   \n",
       "3               22.38               22.19               18.94   \n",
       "4               22.31               22.00               18.88   \n",
       "\n",
       "   BeamIndex_32 (AP3)  BeamIndex_33 (AP3)  BeamIndex_34 (AP3)  \\\n",
       "0               21.88               20.44               24.56   \n",
       "1               21.69               20.19               24.13   \n",
       "2               23.94               22.69               26.81   \n",
       "3               22.31               21.31               24.25   \n",
       "4               22.00               20.94               24.06   \n",
       "\n",
       "   BeamIndex_35 (AP3)  BeamIndex_36 (AP3)  \n",
       "0               18.31               23.56  \n",
       "1               18.13               23.31  \n",
       "2               20.75               25.50  \n",
       "3               18.75               24.00  \n",
       "4               18.56               23.75  \n",
       "\n",
       "[5 rows x 113 columns]"
      ]
     },
     "execution_count": 12,
     "metadata": {},
     "output_type": "execute_result"
    }
   ],
   "source": [
    "### check the header\n",
    "trainBSF.head()"
   ]
  },
  {
   "cell_type": "code",
   "execution_count": 13,
   "metadata": {
    "slideshow": {
     "slide_type": "subslide"
    }
   },
   "outputs": [
    {
     "data": {
      "text/plain": [
       "Loc.                    1.00\n",
       "LocOrn                  1.00\n",
       "OrnDeg                  0.00\n",
       "coordX                 53.00\n",
       "coordY                133.00\n",
       "BeamIndex_1 (AP1)      28.38\n",
       "BeamIndex_2 (AP1)      25.69\n",
       "BeamIndex_3 (AP1)      23.81\n",
       "BeamIndex_4 (AP1)      26.00\n",
       "BeamIndex_5 (AP1)      23.44\n",
       "BeamIndex_6 (AP1)      22.56\n",
       "BeamIndex_7 (AP1)      25.38\n",
       "BeamIndex_8 (AP1)      25.25\n",
       "BeamIndex_9 (AP1)      23.94\n",
       "BeamIndex_10 (AP1)     23.31\n",
       "BeamIndex_11 (AP1)     24.63\n",
       "BeamIndex_12 (AP1)     28.13\n",
       "BeamIndex_13 (AP1)     24.63\n",
       "BeamIndex_14 (AP1)     27.75\n",
       "BeamIndex_15 (AP1)     26.50\n",
       "BeamIndex_16 (AP1)     25.19\n",
       "BeamIndex_17 (AP1)     23.75\n",
       "BeamIndex_18 (AP1)     30.13\n",
       "BeamIndex_19 (AP1)     28.13\n",
       "BeamIndex_20 (AP1)     28.88\n",
       "BeamIndex_21 (AP1)     22.13\n",
       "BeamIndex_22 (AP1)     24.06\n",
       "BeamIndex_23 (AP1)     23.69\n",
       "BeamIndex_24 (AP1)     25.63\n",
       "BeamIndex_25 (AP1)     24.63\n",
       "                       ...  \n",
       "BeamIndex_7 (AP3)      22.44\n",
       "BeamIndex_8 (AP3)      24.44\n",
       "BeamIndex_9 (AP3)      21.25\n",
       "BeamIndex_10 (AP3)     28.25\n",
       "BeamIndex_11 (AP3)     21.19\n",
       "BeamIndex_12 (AP3)     22.06\n",
       "BeamIndex_13 (AP3)     24.13\n",
       "BeamIndex_14 (AP3)     22.19\n",
       "BeamIndex_15 (AP3)     20.69\n",
       "BeamIndex_16 (AP3)     32.00\n",
       "BeamIndex_17 (AP3)     21.25\n",
       "BeamIndex_18 (AP3)     24.19\n",
       "BeamIndex_19 (AP3)     24.56\n",
       "BeamIndex_20 (AP3)     26.75\n",
       "BeamIndex_21 (AP3)     22.56\n",
       "BeamIndex_22 (AP3)     23.31\n",
       "BeamIndex_23 (AP3)     24.63\n",
       "BeamIndex_24 (AP3)     29.00\n",
       "BeamIndex_25 (AP3)     19.75\n",
       "BeamIndex_26 (AP3)     23.31\n",
       "BeamIndex_27 (AP3)     22.94\n",
       "BeamIndex_28 (AP3)     21.31\n",
       "BeamIndex_29 (AP3)     23.63\n",
       "BeamIndex_30 (AP3)     23.50\n",
       "BeamIndex_31 (AP3)     20.00\n",
       "BeamIndex_32 (AP3)     23.31\n",
       "BeamIndex_33 (AP3)     22.06\n",
       "BeamIndex_34 (AP3)     26.06\n",
       "BeamIndex_35 (AP3)     19.81\n",
       "BeamIndex_36 (AP3)     25.00\n",
       "Name: 10, Length: 113, dtype: float64"
      ]
     },
     "execution_count": 13,
     "metadata": {},
     "output_type": "execute_result"
    }
   ],
   "source": [
    "trainBSF.loc[10,:]"
   ]
  },
  {
   "cell_type": "code",
   "execution_count": 47,
   "metadata": {
    "scrolled": true,
    "slideshow": {
     "slide_type": "subslide"
    }
   },
   "outputs": [
    {
     "data": {
      "text/html": [
       "<div>\n",
       "<style scoped>\n",
       "    .dataframe tbody tr th:only-of-type {\n",
       "        vertical-align: middle;\n",
       "    }\n",
       "\n",
       "    .dataframe tbody tr th {\n",
       "        vertical-align: top;\n",
       "    }\n",
       "\n",
       "    .dataframe thead th {\n",
       "        text-align: right;\n",
       "    }\n",
       "</style>\n",
       "<table border=\"1\" class=\"dataframe\">\n",
       "  <thead>\n",
       "    <tr style=\"text-align: right;\">\n",
       "      <th></th>\n",
       "      <th>Loc.</th>\n",
       "      <th>LocOrn</th>\n",
       "      <th>BeamIndex_1 (AP1)</th>\n",
       "      <th>BeamIndex_2 (AP1)</th>\n",
       "      <th>BeamIndex_3 (AP1)</th>\n",
       "      <th>BeamIndex_4 (AP1)</th>\n",
       "      <th>BeamIndex_5 (AP1)</th>\n",
       "      <th>BeamIndex_6 (AP1)</th>\n",
       "      <th>BeamIndex_7 (AP1)</th>\n",
       "      <th>BeamIndex_8 (AP1)</th>\n",
       "      <th>...</th>\n",
       "      <th>BeamIndex_27 (AP3)</th>\n",
       "      <th>BeamIndex_28 (AP3)</th>\n",
       "      <th>BeamIndex_29 (AP3)</th>\n",
       "      <th>BeamIndex_30 (AP3)</th>\n",
       "      <th>BeamIndex_31 (AP3)</th>\n",
       "      <th>BeamIndex_32 (AP3)</th>\n",
       "      <th>BeamIndex_33 (AP3)</th>\n",
       "      <th>BeamIndex_34 (AP3)</th>\n",
       "      <th>BeamIndex_35 (AP3)</th>\n",
       "      <th>BeamIndex_36 (AP3)</th>\n",
       "    </tr>\n",
       "  </thead>\n",
       "  <tbody>\n",
       "    <tr>\n",
       "      <th>0</th>\n",
       "      <td>1</td>\n",
       "      <td>1</td>\n",
       "      <td>27.44</td>\n",
       "      <td>24.88</td>\n",
       "      <td>22.94</td>\n",
       "      <td>25.31</td>\n",
       "      <td>22.31</td>\n",
       "      <td>21.94</td>\n",
       "      <td>24.38</td>\n",
       "      <td>24.38</td>\n",
       "      <td>...</td>\n",
       "      <td>21.06</td>\n",
       "      <td>19.56</td>\n",
       "      <td>21.94</td>\n",
       "      <td>21.81</td>\n",
       "      <td>18.44</td>\n",
       "      <td>21.88</td>\n",
       "      <td>20.44</td>\n",
       "      <td>24.56</td>\n",
       "      <td>18.31</td>\n",
       "      <td>23.56</td>\n",
       "    </tr>\n",
       "    <tr>\n",
       "      <th>1</th>\n",
       "      <td>1</td>\n",
       "      <td>1</td>\n",
       "      <td>27.00</td>\n",
       "      <td>24.75</td>\n",
       "      <td>22.75</td>\n",
       "      <td>24.94</td>\n",
       "      <td>22.13</td>\n",
       "      <td>21.56</td>\n",
       "      <td>24.00</td>\n",
       "      <td>24.00</td>\n",
       "      <td>...</td>\n",
       "      <td>20.88</td>\n",
       "      <td>19.19</td>\n",
       "      <td>21.63</td>\n",
       "      <td>21.56</td>\n",
       "      <td>18.31</td>\n",
       "      <td>21.69</td>\n",
       "      <td>20.19</td>\n",
       "      <td>24.13</td>\n",
       "      <td>18.13</td>\n",
       "      <td>23.31</td>\n",
       "    </tr>\n",
       "    <tr>\n",
       "      <th>2</th>\n",
       "      <td>1</td>\n",
       "      <td>1</td>\n",
       "      <td>26.69</td>\n",
       "      <td>24.50</td>\n",
       "      <td>22.19</td>\n",
       "      <td>24.56</td>\n",
       "      <td>21.94</td>\n",
       "      <td>21.31</td>\n",
       "      <td>23.94</td>\n",
       "      <td>23.94</td>\n",
       "      <td>...</td>\n",
       "      <td>23.31</td>\n",
       "      <td>21.81</td>\n",
       "      <td>24.06</td>\n",
       "      <td>23.94</td>\n",
       "      <td>20.50</td>\n",
       "      <td>23.94</td>\n",
       "      <td>22.69</td>\n",
       "      <td>26.81</td>\n",
       "      <td>20.75</td>\n",
       "      <td>25.50</td>\n",
       "    </tr>\n",
       "    <tr>\n",
       "      <th>3</th>\n",
       "      <td>1</td>\n",
       "      <td>1</td>\n",
       "      <td>26.94</td>\n",
       "      <td>24.31</td>\n",
       "      <td>22.00</td>\n",
       "      <td>24.56</td>\n",
       "      <td>21.75</td>\n",
       "      <td>21.13</td>\n",
       "      <td>23.69</td>\n",
       "      <td>23.69</td>\n",
       "      <td>...</td>\n",
       "      <td>21.69</td>\n",
       "      <td>19.88</td>\n",
       "      <td>22.38</td>\n",
       "      <td>22.19</td>\n",
       "      <td>18.94</td>\n",
       "      <td>22.31</td>\n",
       "      <td>21.31</td>\n",
       "      <td>24.25</td>\n",
       "      <td>18.75</td>\n",
       "      <td>24.00</td>\n",
       "    </tr>\n",
       "    <tr>\n",
       "      <th>4</th>\n",
       "      <td>1</td>\n",
       "      <td>1</td>\n",
       "      <td>28.38</td>\n",
       "      <td>25.69</td>\n",
       "      <td>23.75</td>\n",
       "      <td>26.13</td>\n",
       "      <td>23.38</td>\n",
       "      <td>22.81</td>\n",
       "      <td>25.56</td>\n",
       "      <td>25.50</td>\n",
       "      <td>...</td>\n",
       "      <td>21.44</td>\n",
       "      <td>19.75</td>\n",
       "      <td>22.31</td>\n",
       "      <td>22.00</td>\n",
       "      <td>18.88</td>\n",
       "      <td>22.00</td>\n",
       "      <td>20.94</td>\n",
       "      <td>24.06</td>\n",
       "      <td>18.56</td>\n",
       "      <td>23.75</td>\n",
       "    </tr>\n",
       "  </tbody>\n",
       "</table>\n",
       "<p>5 rows × 110 columns</p>\n",
       "</div>"
      ],
      "text/plain": [
       "   Loc.  LocOrn  BeamIndex_1 (AP1)  BeamIndex_2 (AP1)  BeamIndex_3 (AP1)  \\\n",
       "0     1       1              27.44              24.88              22.94   \n",
       "1     1       1              27.00              24.75              22.75   \n",
       "2     1       1              26.69              24.50              22.19   \n",
       "3     1       1              26.94              24.31              22.00   \n",
       "4     1       1              28.38              25.69              23.75   \n",
       "\n",
       "   BeamIndex_4 (AP1)  BeamIndex_5 (AP1)  BeamIndex_6 (AP1)  BeamIndex_7 (AP1)  \\\n",
       "0              25.31              22.31              21.94              24.38   \n",
       "1              24.94              22.13              21.56              24.00   \n",
       "2              24.56              21.94              21.31              23.94   \n",
       "3              24.56              21.75              21.13              23.69   \n",
       "4              26.13              23.38              22.81              25.56   \n",
       "\n",
       "   BeamIndex_8 (AP1)         ...          BeamIndex_27 (AP3)  \\\n",
       "0              24.38         ...                       21.06   \n",
       "1              24.00         ...                       20.88   \n",
       "2              23.94         ...                       23.31   \n",
       "3              23.69         ...                       21.69   \n",
       "4              25.50         ...                       21.44   \n",
       "\n",
       "   BeamIndex_28 (AP3)  BeamIndex_29 (AP3)  BeamIndex_30 (AP3)  \\\n",
       "0               19.56               21.94               21.81   \n",
       "1               19.19               21.63               21.56   \n",
       "2               21.81               24.06               23.94   \n",
       "3               19.88               22.38               22.19   \n",
       "4               19.75               22.31               22.00   \n",
       "\n",
       "   BeamIndex_31 (AP3)  BeamIndex_32 (AP3)  BeamIndex_33 (AP3)  \\\n",
       "0               18.44               21.88               20.44   \n",
       "1               18.31               21.69               20.19   \n",
       "2               20.50               23.94               22.69   \n",
       "3               18.94               22.31               21.31   \n",
       "4               18.88               22.00               20.94   \n",
       "\n",
       "   BeamIndex_34 (AP3)  BeamIndex_35 (AP3)  BeamIndex_36 (AP3)  \n",
       "0               24.56               18.31               23.56  \n",
       "1               24.13               18.13               23.31  \n",
       "2               26.81               20.75               25.50  \n",
       "3               24.25               18.75               24.00  \n",
       "4               24.06               18.56               23.75  \n",
       "\n",
       "[5 rows x 110 columns]"
      ]
     },
     "execution_count": 47,
     "metadata": {},
     "output_type": "execute_result"
    }
   ],
   "source": [
    "### extract columns for position and orientation classification\n",
    "\n",
    "fields_to_drop = ['OrnDeg', 'coordX', 'coordY'] # only loc. and locOrn labels\n",
    "trainData      = trainBSF.drop(fields_to_drop, axis=1)\n",
    "trainData.head()"
   ]
  },
  {
   "cell_type": "code",
   "execution_count": 15,
   "metadata": {
    "scrolled": true,
    "slideshow": {
     "slide_type": "subslide"
    }
   },
   "outputs": [
    {
     "data": {
      "image/png": "[encoded data removed]",
      "text/plain": [
       "<Figure size 432x288 with 1 Axes>"
      ]
     },
     "metadata": {},
     "output_type": "display_data"
    }
   ],
   "source": [
    "### check beam SNR\n",
    "tempData = trainData.values\n",
    "dataSNR  = trainData.iloc[:,2:110].values\n",
    "\n",
    "plt.figure()\n",
    "plt.plot(dataSNR[1000,:])\n",
    "plt.title('beam SNR over 3 APs ')\n",
    "plt.ylabel('dB');"
   ]
  },
  {
   "cell_type": "code",
   "execution_count": 16,
   "metadata": {
    "slideshow": {
     "slide_type": "subslide"
    }
   },
   "outputs": [
    {
     "data": {
      "image/png": "[encoded data removed]",
      "text/plain": [
       "<Figure size 432x288 with 1 Axes>"
      ]
     },
     "metadata": {},
     "output_type": "display_data"
    }
   ],
   "source": [
    "# normalization (if desired, optional) into [0, 1]\n",
    "minSNR  = dataSNR.min(axis=0).min()\n",
    "maxSNR  = dataSNR.max(axis=0).max()\n",
    "\n",
    "normSNR = (dataSNR-minSNR)/(maxSNR-minSNR)\n",
    "\n",
    "# you can also apply standarlization to the normalized data as well. \n",
    "# Make sure you apply the same standarization value to the training and test datasets.\n",
    "\n",
    "\n",
    "plt.figure()\n",
    "plt.plot(normSNR[1000,:])\n",
    "plt.title('normalized beam SNR over 3 APs ');"
   ]
  },
  {
   "cell_type": "code",
   "execution_count": 17,
   "metadata": {
    "slideshow": {
     "slide_type": "subslide"
    }
   },
   "outputs": [],
   "source": [
    "# get the location-only and location-and-orientation labels\n",
    "\n",
    "# locLabel    = trainData.iloc[:,0].values\n",
    "locOrnLabel = trainData.iloc[:,1].values"
   ]
  },
  {
   "cell_type": "code",
   "execution_count": 18,
   "metadata": {
    "slideshow": {
     "slide_type": "subslide"
    }
   },
   "outputs": [],
   "source": [
    "# convert train_data into floatTensor type\n",
    "y_tensor     = torch.from_numpy(locOrnLabel)\n",
    "# convert to longTensor for classification \n",
    "y_tensor     = y_tensor.type(torch.LongTensor)-1 # starting from 0\n",
    "\n",
    "# array format for location/orientation labels\n",
    "xnorm_tensor = torch.from_numpy(normSNR)\n",
    "[d1, d2]     = xnorm_tensor.size()"
   ]
  },
  {
   "cell_type": "markdown",
   "metadata": {
    "slideshow": {
     "slide_type": "slide"
    }
   },
   "source": [
    "### split into training and validation for each position/orientation"
   ]
  },
  {
   "cell_type": "code",
   "execution_count": 19,
   "metadata": {
    "scrolled": false,
    "slideshow": {
     "slide_type": "subslide"
    }
   },
   "outputs": [],
   "source": [
    "splitRatio = 0.1  # 10% split ratio\n",
    "\n",
    "nClass    = torch.zeros(28)\n",
    "ind_train = torch.LongTensor()\n",
    "ind_val   = torch.LongTensor()\n",
    "\n",
    "for ll in range(28):\n",
    "    indClass    = (y_tensor == ll).nonzero()\n",
    "    nClass[ll]  = indClass.size(0)\n",
    "    nVal        = int(splitRatio*nClass[ll]) # use the last (splitRatio x 100) percent for each class for validation\n",
    "    \n",
    "    ind_train    = torch.cat((ind_train, indClass[:-nVal] ))\n",
    "    ind_val      = torch.cat((ind_val, indClass[-nVal:]))\n",
    "\n",
    "xnorm_train  = xnorm_tensor[ind_train.squeeze(),:].type(torch.FloatTensor)\n",
    "y_train      = y_tensor[ind_train.squeeze()]\n",
    "\n",
    "xnorm_val    = xnorm_tensor[ind_val.squeeze(),:].type(torch.FloatTensor)\n",
    "y_val        = y_tensor[ind_val.squeeze()]"
   ]
  },
  {
   "cell_type": "code",
   "execution_count": 20,
   "metadata": {
    "scrolled": true,
    "slideshow": {
     "slide_type": "subslide"
    }
   },
   "outputs": [
    {
     "data": {
      "image/png": "[encoded data removed]",
      "text/plain": [
       "<Figure size 432x288 with 1 Axes>"
      ]
     },
     "metadata": {},
     "output_type": "display_data"
    }
   ],
   "source": [
    "### check the number of entries for each (location, orientation) label\n",
    "plt.bar(torch.arange(28),nClass)\n",
    "plt.title('Number of entries for each (location, orientation) label');\n",
    "plt.xlabel('loc-and-orn index');"
   ]
  },
  {
   "cell_type": "markdown",
   "metadata": {
    "slideshow": {
     "slide_type": "slide"
    }
   },
   "source": [
    "### load the (on-grid) test dataset\n",
    "\n",
    "the same 7 locations and 4 orientations as in the training dataset...\n",
    "\n",
    "the on-grid test dataset was collected **a few weeks after** the collection of the training dataset.\n",
    "\n",
    "- 7361 entries with the same format as the training dataset\n",
    "    - A location Label (1 to 7)\n",
    "    - A global location-and-orientation label (1 to 28)\n",
    "    - An orientation degree ($0^{\\circ}, 90^{\\circ}, 180^{\\circ}, 270^{\\circ}$)\n",
    "    - A two-dimensional coordinate (in centimeters)\n",
    "    - 108 beam SNR values (36 beam SNR values for one AP)"
   ]
  },
  {
   "cell_type": "code",
   "execution_count": 46,
   "metadata": {
    "scrolled": true,
    "slideshow": {
     "slide_type": "subslide"
    }
   },
   "outputs": [
    {
     "data": {
      "text/html": [
       "<div>\n",
       "<style scoped>\n",
       "    .dataframe tbody tr th:only-of-type {\n",
       "        vertical-align: middle;\n",
       "    }\n",
       "\n",
       "    .dataframe tbody tr th {\n",
       "        vertical-align: top;\n",
       "    }\n",
       "\n",
       "    .dataframe thead th {\n",
       "        text-align: right;\n",
       "    }\n",
       "</style>\n",
       "<table border=\"1\" class=\"dataframe\">\n",
       "  <thead>\n",
       "    <tr style=\"text-align: right;\">\n",
       "      <th></th>\n",
       "      <th>Loc.</th>\n",
       "      <th>LocOrn</th>\n",
       "      <th>BeamIndex_1 (AP1)</th>\n",
       "      <th>BeamIndex_2 (AP1)</th>\n",
       "      <th>BeamIndex_3 (AP1)</th>\n",
       "      <th>BeamIndex_4 (AP1)</th>\n",
       "      <th>BeamIndex_5 (AP1)</th>\n",
       "      <th>BeamIndex_6 (AP1)</th>\n",
       "      <th>BeamIndex_7 (AP1)</th>\n",
       "      <th>BeamIndex_8 (AP1)</th>\n",
       "      <th>...</th>\n",
       "      <th>BeamIndex_27 (AP3)</th>\n",
       "      <th>BeamIndex_28 (AP3)</th>\n",
       "      <th>BeamIndex_29 (AP3)</th>\n",
       "      <th>BeamIndex_30 (AP3)</th>\n",
       "      <th>BeamIndex_31 (AP3)</th>\n",
       "      <th>BeamIndex_32 (AP3)</th>\n",
       "      <th>BeamIndex_33 (AP3)</th>\n",
       "      <th>BeamIndex_34 (AP3)</th>\n",
       "      <th>BeamIndex_35 (AP3)</th>\n",
       "      <th>BeamIndex_36 (AP3)</th>\n",
       "    </tr>\n",
       "  </thead>\n",
       "  <tbody>\n",
       "    <tr>\n",
       "      <th>0</th>\n",
       "      <td>1</td>\n",
       "      <td>1</td>\n",
       "      <td>27.94</td>\n",
       "      <td>25.19</td>\n",
       "      <td>22.44</td>\n",
       "      <td>25.75</td>\n",
       "      <td>23.25</td>\n",
       "      <td>22.50</td>\n",
       "      <td>25.13</td>\n",
       "      <td>24.81</td>\n",
       "      <td>...</td>\n",
       "      <td>19.13</td>\n",
       "      <td>18.94</td>\n",
       "      <td>24.19</td>\n",
       "      <td>21.56</td>\n",
       "      <td>17.63</td>\n",
       "      <td>20.38</td>\n",
       "      <td>17.75</td>\n",
       "      <td>21.25</td>\n",
       "      <td>18.38</td>\n",
       "      <td>24.69</td>\n",
       "    </tr>\n",
       "    <tr>\n",
       "      <th>1</th>\n",
       "      <td>1</td>\n",
       "      <td>1</td>\n",
       "      <td>26.81</td>\n",
       "      <td>24.88</td>\n",
       "      <td>22.31</td>\n",
       "      <td>25.94</td>\n",
       "      <td>22.81</td>\n",
       "      <td>22.00</td>\n",
       "      <td>24.88</td>\n",
       "      <td>24.44</td>\n",
       "      <td>...</td>\n",
       "      <td>18.69</td>\n",
       "      <td>18.44</td>\n",
       "      <td>23.63</td>\n",
       "      <td>20.75</td>\n",
       "      <td>17.19</td>\n",
       "      <td>19.50</td>\n",
       "      <td>17.50</td>\n",
       "      <td>20.50</td>\n",
       "      <td>17.75</td>\n",
       "      <td>24.25</td>\n",
       "    </tr>\n",
       "    <tr>\n",
       "      <th>2</th>\n",
       "      <td>1</td>\n",
       "      <td>1</td>\n",
       "      <td>26.38</td>\n",
       "      <td>24.56</td>\n",
       "      <td>21.88</td>\n",
       "      <td>25.31</td>\n",
       "      <td>22.44</td>\n",
       "      <td>21.69</td>\n",
       "      <td>24.63</td>\n",
       "      <td>24.06</td>\n",
       "      <td>...</td>\n",
       "      <td>20.94</td>\n",
       "      <td>20.94</td>\n",
       "      <td>25.81</td>\n",
       "      <td>23.06</td>\n",
       "      <td>19.25</td>\n",
       "      <td>21.56</td>\n",
       "      <td>19.50</td>\n",
       "      <td>22.44</td>\n",
       "      <td>19.94</td>\n",
       "      <td>26.00</td>\n",
       "    </tr>\n",
       "    <tr>\n",
       "      <th>3</th>\n",
       "      <td>1</td>\n",
       "      <td>1</td>\n",
       "      <td>26.19</td>\n",
       "      <td>24.31</td>\n",
       "      <td>21.81</td>\n",
       "      <td>24.94</td>\n",
       "      <td>22.31</td>\n",
       "      <td>21.44</td>\n",
       "      <td>24.31</td>\n",
       "      <td>23.88</td>\n",
       "      <td>...</td>\n",
       "      <td>18.38</td>\n",
       "      <td>18.31</td>\n",
       "      <td>23.31</td>\n",
       "      <td>20.38</td>\n",
       "      <td>16.75</td>\n",
       "      <td>19.06</td>\n",
       "      <td>17.00</td>\n",
       "      <td>19.81</td>\n",
       "      <td>17.63</td>\n",
       "      <td>23.88</td>\n",
       "    </tr>\n",
       "    <tr>\n",
       "      <th>4</th>\n",
       "      <td>1</td>\n",
       "      <td>1</td>\n",
       "      <td>26.13</td>\n",
       "      <td>24.31</td>\n",
       "      <td>21.63</td>\n",
       "      <td>24.94</td>\n",
       "      <td>22.06</td>\n",
       "      <td>21.38</td>\n",
       "      <td>24.06</td>\n",
       "      <td>23.81</td>\n",
       "      <td>...</td>\n",
       "      <td>17.13</td>\n",
       "      <td>17.00</td>\n",
       "      <td>21.44</td>\n",
       "      <td>18.69</td>\n",
       "      <td>15.88</td>\n",
       "      <td>17.63</td>\n",
       "      <td>16.06</td>\n",
       "      <td>18.31</td>\n",
       "      <td>16.38</td>\n",
       "      <td>21.88</td>\n",
       "    </tr>\n",
       "  </tbody>\n",
       "</table>\n",
       "<p>5 rows × 110 columns</p>\n",
       "</div>"
      ],
      "text/plain": [
       "   Loc.  LocOrn  BeamIndex_1 (AP1)  BeamIndex_2 (AP1)  BeamIndex_3 (AP1)  \\\n",
       "0     1       1              27.94              25.19              22.44   \n",
       "1     1       1              26.81              24.88              22.31   \n",
       "2     1       1              26.38              24.56              21.88   \n",
       "3     1       1              26.19              24.31              21.81   \n",
       "4     1       1              26.13              24.31              21.63   \n",
       "\n",
       "   BeamIndex_4 (AP1)  BeamIndex_5 (AP1)  BeamIndex_6 (AP1)  BeamIndex_7 (AP1)  \\\n",
       "0              25.75              23.25              22.50              25.13   \n",
       "1              25.94              22.81              22.00              24.88   \n",
       "2              25.31              22.44              21.69              24.63   \n",
       "3              24.94              22.31              21.44              24.31   \n",
       "4              24.94              22.06              21.38              24.06   \n",
       "\n",
       "   BeamIndex_8 (AP1)         ...          BeamIndex_27 (AP3)  \\\n",
       "0              24.81         ...                       19.13   \n",
       "1              24.44         ...                       18.69   \n",
       "2              24.06         ...                       20.94   \n",
       "3              23.88         ...                       18.38   \n",
       "4              23.81         ...                       17.13   \n",
       "\n",
       "   BeamIndex_28 (AP3)  BeamIndex_29 (AP3)  BeamIndex_30 (AP3)  \\\n",
       "0               18.94               24.19               21.56   \n",
       "1               18.44               23.63               20.75   \n",
       "2               20.94               25.81               23.06   \n",
       "3               18.31               23.31               20.38   \n",
       "4               17.00               21.44               18.69   \n",
       "\n",
       "   BeamIndex_31 (AP3)  BeamIndex_32 (AP3)  BeamIndex_33 (AP3)  \\\n",
       "0               17.63               20.38               17.75   \n",
       "1               17.19               19.50               17.50   \n",
       "2               19.25               21.56               19.50   \n",
       "3               16.75               19.06               17.00   \n",
       "4               15.88               17.63               16.06   \n",
       "\n",
       "   BeamIndex_34 (AP3)  BeamIndex_35 (AP3)  BeamIndex_36 (AP3)  \n",
       "0               21.25               18.38               24.69  \n",
       "1               20.50               17.75               24.25  \n",
       "2               22.44               19.94               26.00  \n",
       "3               19.81               17.63               23.88  \n",
       "4               18.31               16.38               21.88  \n",
       "\n",
       "[5 rows x 110 columns]"
      ]
     },
     "execution_count": 46,
     "metadata": {},
     "output_type": "execute_result"
    }
   ],
   "source": [
    "# the same way we load the training dataset\n",
    "data_path = 'datasets/mmBSF_testData_ongrid.csv'\n",
    "testBSF   = pd.read_csv(data_path)\n",
    "\n",
    "fields_to_drop = ['OrnDeg', 'coordX', 'coordY'] # only loc. and locOrn labels\n",
    "testData      = testBSF.drop(fields_to_drop, axis=1)\n",
    "\n",
    "testData.head()"
   ]
  },
  {
   "cell_type": "code",
   "execution_count": 44,
   "metadata": {
    "slideshow": {
     "slide_type": "subslide"
    }
   },
   "outputs": [],
   "source": [
    "tempData = testData.values\n",
    "dataSNR_test  = testData.iloc[:,2:110].values\n",
    "\n",
    "# normalization (if desired, optional) into [0, 1]\n",
    "normSNR_test = (dataSNR_test-minSNR)/(maxSNR-minSNR)   # use the same min and max as the ones used for training data\n",
    "\n",
    "# get the target field\n",
    "# locLabel    = testData.iloc[:,0].values\n",
    "locOrnLabel = testData.iloc[:,1].values\n",
    "\n",
    "# into floatTensor type\n",
    "y_test     = torch.from_numpy(locOrnLabel)\n",
    "y_test     = y_test.type(torch.LongTensor)-1 # starting from 0\n",
    "\n",
    "# array format for location/orientation labels\n",
    "x_test     = torch.from_numpy(normSNR_test).type(torch.FloatTensor)"
   ]
  },
  {
   "cell_type": "code",
   "execution_count": 45,
   "metadata": {
    "scrolled": false,
    "slideshow": {
     "slide_type": "subslide"
    }
   },
   "outputs": [
    {
     "data": {
      "image/png": "[encoded data removed]",
      "text/plain": [
       "<Figure size 432x288 with 1 Axes>"
      ]
     },
     "metadata": {},
     "output_type": "display_data"
    },
    {
     "data": {
      "image/png": "[encoded data removed]",
      "text/plain": [
       "<Figure size 432x288 with 1 Axes>"
      ]
     },
     "metadata": {},
     "output_type": "display_data"
    }
   ],
   "source": [
    "plt.figure()\n",
    "plt.plot(dataSNR[10,:])\n",
    "plt.title('beam SNR over 3 APs: on-grid test data')\n",
    "plt.ylabel('dB');\n",
    "\n",
    "plt.figure()\n",
    "plt.plot(normSNR[10,:])\n",
    "plt.title('normalized beam SNR over 3 APs: on-grid test data')\n",
    "plt.ylabel('dB');"
   ]
  },
  {
   "cell_type": "markdown",
   "metadata": {
    "slideshow": {
     "slide_type": "slide"
    }
   },
   "source": [
    "### load the (off-grid) test dataset\n",
    "\n",
    "4 different locations with 4 orientations for each location, collected **4 months after** the collection of the training dataset\n",
    "\n",
    "- 2044 entries\n",
    "    - A location Label (A,B,C,D)\n",
    "    - An orientation degree ($0^{\\circ}, 90^{\\circ}, 180^{\\circ}, 270^{\\circ}$)\n",
    "    - A two-dimensional coordinate (in centimeters)\n",
    "    - 108 beam SNR values (36 beam SNR values for one AP)"
   ]
  },
  {
   "cell_type": "code",
   "execution_count": 26,
   "metadata": {
    "slideshow": {
     "slide_type": "subslide"
    }
   },
   "outputs": [
    {
     "data": {
      "text/html": [
       "<div>\n",
       "<style scoped>\n",
       "    .dataframe tbody tr th:only-of-type {\n",
       "        vertical-align: middle;\n",
       "    }\n",
       "\n",
       "    .dataframe tbody tr th {\n",
       "        vertical-align: top;\n",
       "    }\n",
       "\n",
       "    .dataframe thead th {\n",
       "        text-align: right;\n",
       "    }\n",
       "</style>\n",
       "<table border=\"1\" class=\"dataframe\">\n",
       "  <thead>\n",
       "    <tr style=\"text-align: right;\">\n",
       "      <th></th>\n",
       "      <th>coordX</th>\n",
       "      <th>coordY</th>\n",
       "      <th>BeamIndex_1 (AP1)</th>\n",
       "      <th>BeamIndex_2 (AP1)</th>\n",
       "      <th>BeamIndex_3 (AP1)</th>\n",
       "      <th>BeamIndex_4 (AP1)</th>\n",
       "      <th>BeamIndex_5 (AP1)</th>\n",
       "      <th>BeamIndex_6 (AP1)</th>\n",
       "      <th>BeamIndex_7 (AP1)</th>\n",
       "      <th>BeamIndex_8 (AP1)</th>\n",
       "      <th>...</th>\n",
       "      <th>BeamIndex_27 (AP3)</th>\n",
       "      <th>BeamIndex_28 (AP3)</th>\n",
       "      <th>BeamIndex_29 (AP3)</th>\n",
       "      <th>BeamIndex_30 (AP3)</th>\n",
       "      <th>BeamIndex_31 (AP3)</th>\n",
       "      <th>BeamIndex_32 (AP3)</th>\n",
       "      <th>BeamIndex_33 (AP3)</th>\n",
       "      <th>BeamIndex_34 (AP3)</th>\n",
       "      <th>BeamIndex_35 (AP3)</th>\n",
       "      <th>BeamIndex_36 (AP3)</th>\n",
       "    </tr>\n",
       "  </thead>\n",
       "  <tbody>\n",
       "    <tr>\n",
       "      <th>0</th>\n",
       "      <td>83.0</td>\n",
       "      <td>155.0</td>\n",
       "      <td>28.94</td>\n",
       "      <td>22.88</td>\n",
       "      <td>29.00</td>\n",
       "      <td>25.81</td>\n",
       "      <td>24.56</td>\n",
       "      <td>28.50</td>\n",
       "      <td>28.63</td>\n",
       "      <td>24.31</td>\n",
       "      <td>...</td>\n",
       "      <td>21.00</td>\n",
       "      <td>21.00</td>\n",
       "      <td>21.50</td>\n",
       "      <td>19.19</td>\n",
       "      <td>18.50</td>\n",
       "      <td>21.06</td>\n",
       "      <td>19.19</td>\n",
       "      <td>26.69</td>\n",
       "      <td>18.63</td>\n",
       "      <td>20.63</td>\n",
       "    </tr>\n",
       "    <tr>\n",
       "      <th>1</th>\n",
       "      <td>83.0</td>\n",
       "      <td>155.0</td>\n",
       "      <td>28.88</td>\n",
       "      <td>22.44</td>\n",
       "      <td>28.25</td>\n",
       "      <td>25.19</td>\n",
       "      <td>24.31</td>\n",
       "      <td>28.19</td>\n",
       "      <td>28.25</td>\n",
       "      <td>24.06</td>\n",
       "      <td>...</td>\n",
       "      <td>20.56</td>\n",
       "      <td>20.69</td>\n",
       "      <td>21.25</td>\n",
       "      <td>18.81</td>\n",
       "      <td>18.38</td>\n",
       "      <td>20.56</td>\n",
       "      <td>19.00</td>\n",
       "      <td>26.63</td>\n",
       "      <td>18.19</td>\n",
       "      <td>20.69</td>\n",
       "    </tr>\n",
       "    <tr>\n",
       "      <th>2</th>\n",
       "      <td>83.0</td>\n",
       "      <td>155.0</td>\n",
       "      <td>28.56</td>\n",
       "      <td>22.63</td>\n",
       "      <td>28.81</td>\n",
       "      <td>25.31</td>\n",
       "      <td>24.56</td>\n",
       "      <td>28.31</td>\n",
       "      <td>28.38</td>\n",
       "      <td>24.38</td>\n",
       "      <td>...</td>\n",
       "      <td>19.94</td>\n",
       "      <td>19.81</td>\n",
       "      <td>20.19</td>\n",
       "      <td>18.44</td>\n",
       "      <td>17.69</td>\n",
       "      <td>19.88</td>\n",
       "      <td>18.44</td>\n",
       "      <td>25.63</td>\n",
       "      <td>17.69</td>\n",
       "      <td>19.81</td>\n",
       "    </tr>\n",
       "    <tr>\n",
       "      <th>3</th>\n",
       "      <td>83.0</td>\n",
       "      <td>155.0</td>\n",
       "      <td>27.94</td>\n",
       "      <td>21.50</td>\n",
       "      <td>27.00</td>\n",
       "      <td>24.19</td>\n",
       "      <td>23.38</td>\n",
       "      <td>27.13</td>\n",
       "      <td>27.31</td>\n",
       "      <td>23.19</td>\n",
       "      <td>...</td>\n",
       "      <td>20.06</td>\n",
       "      <td>19.81</td>\n",
       "      <td>20.25</td>\n",
       "      <td>18.38</td>\n",
       "      <td>17.63</td>\n",
       "      <td>19.81</td>\n",
       "      <td>18.44</td>\n",
       "      <td>25.44</td>\n",
       "      <td>17.81</td>\n",
       "      <td>19.81</td>\n",
       "    </tr>\n",
       "    <tr>\n",
       "      <th>4</th>\n",
       "      <td>83.0</td>\n",
       "      <td>155.0</td>\n",
       "      <td>28.75</td>\n",
       "      <td>21.69</td>\n",
       "      <td>27.81</td>\n",
       "      <td>24.63</td>\n",
       "      <td>23.75</td>\n",
       "      <td>27.25</td>\n",
       "      <td>28.06</td>\n",
       "      <td>23.56</td>\n",
       "      <td>...</td>\n",
       "      <td>21.06</td>\n",
       "      <td>20.56</td>\n",
       "      <td>21.56</td>\n",
       "      <td>18.94</td>\n",
       "      <td>18.38</td>\n",
       "      <td>20.94</td>\n",
       "      <td>19.06</td>\n",
       "      <td>26.69</td>\n",
       "      <td>18.56</td>\n",
       "      <td>20.63</td>\n",
       "    </tr>\n",
       "  </tbody>\n",
       "</table>\n",
       "<p>5 rows × 110 columns</p>\n",
       "</div>"
      ],
      "text/plain": [
       "   coordX  coordY  BeamIndex_1 (AP1)  BeamIndex_2 (AP1)  BeamIndex_3 (AP1)  \\\n",
       "0    83.0   155.0              28.94              22.88              29.00   \n",
       "1    83.0   155.0              28.88              22.44              28.25   \n",
       "2    83.0   155.0              28.56              22.63              28.81   \n",
       "3    83.0   155.0              27.94              21.50              27.00   \n",
       "4    83.0   155.0              28.75              21.69              27.81   \n",
       "\n",
       "   BeamIndex_4 (AP1)  BeamIndex_5 (AP1)  BeamIndex_6 (AP1)  BeamIndex_7 (AP1)  \\\n",
       "0              25.81              24.56              28.50              28.63   \n",
       "1              25.19              24.31              28.19              28.25   \n",
       "2              25.31              24.56              28.31              28.38   \n",
       "3              24.19              23.38              27.13              27.31   \n",
       "4              24.63              23.75              27.25              28.06   \n",
       "\n",
       "   BeamIndex_8 (AP1)         ...          BeamIndex_27 (AP3)  \\\n",
       "0              24.31         ...                       21.00   \n",
       "1              24.06         ...                       20.56   \n",
       "2              24.38         ...                       19.94   \n",
       "3              23.19         ...                       20.06   \n",
       "4              23.56         ...                       21.06   \n",
       "\n",
       "   BeamIndex_28 (AP3)  BeamIndex_29 (AP3)  BeamIndex_30 (AP3)  \\\n",
       "0               21.00               21.50               19.19   \n",
       "1               20.69               21.25               18.81   \n",
       "2               19.81               20.19               18.44   \n",
       "3               19.81               20.25               18.38   \n",
       "4               20.56               21.56               18.94   \n",
       "\n",
       "   BeamIndex_31 (AP3)  BeamIndex_32 (AP3)  BeamIndex_33 (AP3)  \\\n",
       "0               18.50               21.06               19.19   \n",
       "1               18.38               20.56               19.00   \n",
       "2               17.69               19.88               18.44   \n",
       "3               17.63               19.81               18.44   \n",
       "4               18.38               20.94               19.06   \n",
       "\n",
       "   BeamIndex_34 (AP3)  BeamIndex_35 (AP3)  BeamIndex_36 (AP3)  \n",
       "0               26.69               18.63               20.63  \n",
       "1               26.63               18.19               20.69  \n",
       "2               25.63               17.69               19.81  \n",
       "3               25.44               17.81               19.81  \n",
       "4               26.69               18.56               20.63  \n",
       "\n",
       "[5 rows x 110 columns]"
      ]
     },
     "execution_count": 26,
     "metadata": {},
     "output_type": "execute_result"
    }
   ],
   "source": [
    "# the same way we load the training dataset\n",
    "data_path         = 'datasets/mmBSF_testData_offgrid.csv'\n",
    "testBSF_offgrid   = pd.read_csv(data_path)\n",
    "\n",
    "fields_to_drop = ['Loc.','OrnDeg']  # only keep coordinates\n",
    "testData_offgrid       = testBSF_offgrid.drop(fields_to_drop, axis=1)\n",
    "testData_offgrid.head()"
   ]
  },
  {
   "cell_type": "code",
   "execution_count": 39,
   "metadata": {
    "slideshow": {
     "slide_type": "subslide"
    }
   },
   "outputs": [],
   "source": [
    "tempData              = testData_offgrid.values\n",
    "dataSNR_test_offgrid  = testData_offgrid.iloc[:,2:].values  # beam SNRs:\n",
    "\n",
    "# normalization (if desired, optional) into [0, 1] with the same minSNR and maxSNR for the training data\n",
    "normSNR_test_offgrid = (dataSNR_test_offgrid-minSNR)/(maxSNR-minSNR)   # use the same min and max as the ones used for training data\n",
    "\n",
    "# you can also apply standarlization to the normalized data as well. \n",
    "# Make sure you apply the same standarization value to the training and test datasets.\n",
    "\n",
    "# get the target field\n",
    "coord_test = testData_offgrid.iloc[:,0:2].values\n",
    "\n",
    "# into floatTensor type\n",
    "y_test_offgrid     = torch.from_numpy(coord_test)\n",
    "\n",
    "# array format for location/orientation labels\n",
    "x_test_offgrid     = torch.from_numpy(normSNR_test_offgrid).type(torch.FloatTensor)"
   ]
  },
  {
   "cell_type": "code",
   "execution_count": 42,
   "metadata": {
    "slideshow": {
     "slide_type": "subslide"
    }
   },
   "outputs": [
    {
     "data": {
      "image/png": "[encoded data removed]",
      "text/plain": [
       "<Figure size 432x288 with 1 Axes>"
      ]
     },
     "metadata": {},
     "output_type": "display_data"
    },
    {
     "data": {
      "image/png": "[encoded data removed]",
      "text/plain": [
       "<Figure size 432x288 with 1 Axes>"
      ]
     },
     "metadata": {},
     "output_type": "display_data"
    }
   ],
   "source": [
    "plt.figure()\n",
    "plt.plot(dataSNR_test_offgrid[10,:])\n",
    "plt.title('beam SNR over 3 APs: off-grid test data')\n",
    "plt.ylabel('dB');\n",
    "\n",
    "plt.figure()\n",
    "plt.plot(x_test_offgrid[10,:])\n",
    "plt.title('normalized beam SNR over 3 APs: off-grid test data')\n",
    "plt.ylabel('dB');"
   ]
  }
 ],
 "metadata": {
  "celltoolbar": "Slideshow",
  "kernelspec": {
   "display_name": "Python 3",
   "language": "python",
   "name": "python3"
  },
  "language_info": {
   "codemirror_mode": {
    "name": "ipython",
    "version": 3
   },
   "file_extension": ".py",
   "mimetype": "text/x-python",
   "name": "python",
   "nbconvert_exporter": "python",
   "pygments_lexer": "ipython3",
   "version": "3.6.5"
  }
 },
 "nbformat": 4,
 "nbformat_minor": 2
}
